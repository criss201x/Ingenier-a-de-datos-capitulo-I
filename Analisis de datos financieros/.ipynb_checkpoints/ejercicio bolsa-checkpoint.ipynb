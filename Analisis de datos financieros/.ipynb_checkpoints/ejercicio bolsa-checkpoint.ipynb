{
 "cells": [
  {
   "cell_type": "markdown",
   "metadata": {
    "colab_type": "text",
    "id": "yH0Z18idxwae"
   },
   "source": [
    "## Ejercicio Bolsa Solucionado\n",
    "\n",
    "El objetivo es agrupar un conjunto de valores de bolsa de acuerdo a su comportamiento."
   ]
  },
  {
   "cell_type": "markdown",
   "metadata": {
    "colab_type": "text",
    "id": "nmjYpqSBxwau"
   },
   "source": [
    "### Obtención de datos desde Google\n",
    "\n",
    "Utilizamos Pandas y la API de Yahoo para obtener datos de bolsa"
   ]
  },
  {
   "cell_type": "code",
   "execution_count": 2,
   "metadata": {},
   "outputs": [
    {
     "name": "stdout",
     "output_type": "stream",
     "text": [
      "Collecting yfinance\n",
      "  Downloading yfinance-0.1.55.tar.gz (23 kB)\n",
      "Requirement already satisfied, skipping upgrade: pandas>=0.24 in c:\\programdata\\anaconda3\\lib\\site-packages (from yfinance) (1.1.3)\n",
      "Requirement already satisfied, skipping upgrade: numpy>=1.15 in c:\\programdata\\anaconda3\\lib\\site-packages (from yfinance) (1.19.2)\n",
      "Requirement already satisfied, skipping upgrade: requests>=2.20 in c:\\programdata\\anaconda3\\lib\\site-packages (from yfinance) (2.24.0)\n",
      "Collecting multitasking>=0.0.7\n",
      "  Downloading multitasking-0.0.9.tar.gz (8.1 kB)\n",
      "Requirement already satisfied, skipping upgrade: lxml>=4.5.1 in c:\\programdata\\anaconda3\\lib\\site-packages (from yfinance) (4.6.1)\n",
      "Requirement already satisfied, skipping upgrade: pytz>=2017.2 in c:\\programdata\\anaconda3\\lib\\site-packages (from pandas>=0.24->yfinance) (2020.1)\n",
      "Requirement already satisfied, skipping upgrade: python-dateutil>=2.7.3 in c:\\programdata\\anaconda3\\lib\\site-packages (from pandas>=0.24->yfinance) (2.8.1)\n",
      "Requirement already satisfied, skipping upgrade: idna<3,>=2.5 in c:\\programdata\\anaconda3\\lib\\site-packages (from requests>=2.20->yfinance) (2.10)\n",
      "Requirement already satisfied, skipping upgrade: urllib3!=1.25.0,!=1.25.1,<1.26,>=1.21.1 in c:\\programdata\\anaconda3\\lib\\site-packages (from requests>=2.20->yfinance) (1.25.11)\n",
      "Requirement already satisfied, skipping upgrade: certifi>=2017.4.17 in c:\\programdata\\anaconda3\\lib\\site-packages (from requests>=2.20->yfinance) (2020.6.20)\n",
      "Requirement already satisfied, skipping upgrade: chardet<4,>=3.0.2 in c:\\programdata\\anaconda3\\lib\\site-packages (from requests>=2.20->yfinance) (3.0.4)\n",
      "Requirement already satisfied, skipping upgrade: six>=1.5 in c:\\programdata\\anaconda3\\lib\\site-packages (from python-dateutil>=2.7.3->pandas>=0.24->yfinance) (1.15.0)\n",
      "Building wheels for collected packages: yfinance, multitasking\n",
      "  Building wheel for yfinance (setup.py): started\n",
      "  Building wheel for yfinance (setup.py): finished with status 'done'\n",
      "  Created wheel for yfinance: filename=yfinance-0.1.55-py2.py3-none-any.whl size=22622 sha256=e4c0b248ca276e2e60fdc9e414020c1ff65d3e0333197bf37fdb3a26140ac0c6\n",
      "  Stored in directory: C:\\Users\\cryte\\AppData\\Local\\Temp\\pip-ephem-wheel-cache-gk7x6j2q\\wheels\\b4\\c3\\39\\9c01ae2b4726f37024bba5592bec868b47a2fab5a786e8979a\n",
      "  Building wheel for multitasking (setup.py): started\n",
      "  Building wheel for multitasking (setup.py): finished with status 'done'\n",
      "  Created wheel for multitasking: filename=multitasking-0.0.9-py3-none-any.whl size=8372 sha256=82cba18a5b0c4d29506dd181b3fcf3d8957de986c241e549c05fc2a289747664\n",
      "  Stored in directory: C:\\Users\\cryte\\AppData\\Local\\Temp\\pip-ephem-wheel-cache-gk7x6j2q\\wheels\\57\\6d\\a3\\a39b839cc75274d2acfb1c58bfead2f726c6577fe8c4723f13\n",
      "Successfully built yfinance multitasking\n",
      "Installing collected packages: multitasking, yfinance\n",
      "Successfully installed multitasking-0.0.9 yfinance-0.1.55\n"
     ]
    }
   ],
   "source": [
    "!pip install yfinance --upgrade --no-cache-dir"
   ]
  },
  {
   "cell_type": "code",
   "execution_count": 9,
   "metadata": {
    "colab": {
     "base_uri": "https://localhost:8080/",
     "height": 684
    },
    "colab_type": "code",
    "executionInfo": {
     "elapsed": 10882,
     "status": "error",
     "timestamp": 1598635774267,
     "user": {
      "displayName": "K&G",
      "photoUrl": "https://lh3.googleusercontent.com/a-/AOh14GjQVaumWhZIDKqccYE-sTwkiM8r_K8VFADW0TAy=s64",
      "userId": "11703084203318322732"
     },
     "user_tz": -60
    },
    "id": "XiJgtisoxwa8",
    "outputId": "1833d5f6-7c54-4852-b5ad-f12b6794ab01"
   },
   "outputs": [
    {
     "name": "stdout",
     "output_type": "stream",
     "text": [
      "[*********************100%***********************]  1 of 1 completed\n",
      "MSFT 502 valores\n",
      "[*********************100%***********************]  1 of 1 completed\n",
      "AAPL 502 valores\n",
      "[*********************100%***********************]  1 of 1 completed\n",
      "T 502 valores\n",
      "[*********************100%***********************]  1 of 1 completed\n",
      "GOOGL 502 valores\n",
      "[*********************100%***********************]  1 of 1 completed\n",
      "HPQ 502 valores\n",
      "[*********************100%***********************]  1 of 1 completed\n",
      "VZ 502 valores\n",
      "[*********************100%***********************]  1 of 1 completed\n",
      "CVX 502 valores\n",
      "[*********************100%***********************]  1 of 1 completed\n",
      "ORAN 502 valores\n",
      "[*********************100%***********************]  1 of 1 completed\n",
      "VOD 502 valores\n",
      "[*********************100%***********************]  1 of 1 completed\n",
      "JPM 502 valores\n",
      "[*********************100%***********************]  1 of 1 completed\n",
      "BBVA 502 valores\n",
      "[*********************100%***********************]  1 of 1 completed\n",
      "RBS 502 valores\n",
      "[*********************100%***********************]  1 of 1 completed\n",
      "BK 502 valores\n"
     ]
    }
   ],
   "source": [
    "import datetime\n",
    "#agrupamiento basado en clustering es decir agrupacion de empresas en caracteristicas similares \n",
    "## from pandas.io.data import DataReader #OLD\n",
    "##sudo pip install pandas-datareader\n",
    "import pandas_datareader.data as web\n",
    "import yfinance as yf#accedemos a la api de yahoo\n",
    "lista_val=[\"MSFT\",\"AAPL\",\"T\",\"GOOGL\", \"HPQ\",\"VZ\",\"CVX\",\"ORAN\",\"VOD\",\"JPM\",\"BBVA\",\"RBS\",\"BK\"]#lista de empersas a analizar \n",
    "\n",
    "\n",
    "def lista_google (dstart,dend):#recibe los valores de la funcion de arriba\n",
    " lis=[]\n",
    " for i in range(0,len(lista_val)):\n",
    "     f = yf.download(lista_val[i], dstart,dend)\n",
    "     #f= web.DataReader(lista_val[i], 'stooq', dstart, dend)  \n",
    "     print( lista_val[i] +\" \" + str(len(f['Close'])) +\" \" + \"valores\")\n",
    "     lis.append(f['Close']) #creamos una lista donde guardamos los precios de cierre \n",
    " return lis\n",
    "\n",
    "lis=lista_google(datetime.datetime(2018, 1, 1),datetime.datetime(2019, 12, 31))\t"
   ]
  },
  {
   "cell_type": "code",
   "execution_count": 7,
   "metadata": {
    "colab": {
     "base_uri": "https://localhost:8080/",
     "height": 167
    },
    "colab_type": "code",
    "executionInfo": {
     "elapsed": 665,
     "status": "error",
     "timestamp": 1598635858966,
     "user": {
      "displayName": "K&G",
      "photoUrl": "https://lh3.googleusercontent.com/a-/AOh14GjQVaumWhZIDKqccYE-sTwkiM8r_K8VFADW0TAy=s64",
      "userId": "11703084203318322732"
     },
     "user_tz": -60
    },
    "id": "fGbifB_JHFiw",
    "outputId": "d338f65b-1c1c-42bc-9ad6-8174ebafb38e"
   },
   "outputs": [
    {
     "name": "stdout",
     "output_type": "stream",
     "text": [
      "\n"
     ]
    }
   ],
   "source": [
    "print()"
   ]
  },
  {
   "cell_type": "code",
   "execution_count": 18,
   "metadata": {
    "colab": {
     "base_uri": "https://localhost:8080/",
     "height": 52
    },
    "colab_type": "code",
    "executionInfo": {
     "elapsed": 615,
     "status": "ok",
     "timestamp": 1598636508051,
     "user": {
      "displayName": "K&G",
      "photoUrl": "https://lh3.googleusercontent.com/a-/AOh14GjQVaumWhZIDKqccYE-sTwkiM8r_K8VFADW0TAy=s64",
      "userId": "11703084203318322732"
     },
     "user_tz": -60
    },
    "id": "enf6Z9zJIC7g",
    "outputId": "9be3a885-996c-49b9-b1fc-dc7d09854997"
   },
   "outputs": [
    {
     "name": "stdout",
     "output_type": "stream",
     "text": [
      "[*********************100%***********************]  1 of 1 downloaded\n",
      "BK 502 valores\n"
     ]
    }
   ],
   "source": [
    "import datetime\n",
    "\n",
    "## from pandas.io.data import DataReader #OLD\n",
    "##sudo pip install pandas-datareader\n",
    "import pandas_datareader.data as web\n",
    "import fix_yahoo_finance as yf\n",
    "lista_val=[\"MSFT\",\"AAPL\",\"T\",\"GOOGL\", \"HPQ\",\"VZ\",\"CVX\",\"ORAN\",\"VOD\",\"JPM\",\"BBVA\",\"BK\"]\n",
    "#lista_val=[\"BK\"]\n",
    "\n",
    "def lista_google (dstart,dend):\n",
    " lis=[]\n",
    " for i in range(0,len(lista_val)):\n",
    "     f = yf.download(lista_val[i], dstart,dend)\n",
    "     #f= web.DataReader(lista_val[i], 'stooq', dstart, dend)  \n",
    "     print( lista_val[i] +\" \" + str(len(f['Close'])) +\" \" + \"valores\")\n",
    "     lis.append(f['Close']) \n",
    " return lis\n",
    "\n",
    "lis=lista_google(datetime.datetime(2018, 1, 1),datetime.datetime(2019, 12, 31))\t"
   ]
  },
  {
   "cell_type": "code",
   "execution_count": 14,
   "metadata": {
    "colab": {
     "base_uri": "https://localhost:8080/",
     "height": 34
    },
    "colab_type": "code",
    "executionInfo": {
     "elapsed": 603,
     "status": "ok",
     "timestamp": 1598635997202,
     "user": {
      "displayName": "K&G",
      "photoUrl": "https://lh3.googleusercontent.com/a-/AOh14GjQVaumWhZIDKqccYE-sTwkiM8r_K8VFADW0TAy=s64",
      "userId": "11703084203318322732"
     },
     "user_tz": -60
    },
    "id": "94L62UDZHMSF",
    "outputId": "bb48d9ff-f3be-4214-ca66-55babe028459"
   },
   "outputs": [
    {
     "name": "stdout",
     "output_type": "stream",
     "text": [
      "<type 'datetime.datetime'>\n"
     ]
    }
   ],
   "source": [
    "print(type(datetime.datetime(2018, 1, 1)))"
   ]
  },
  {
   "cell_type": "code",
   "execution_count": null,
   "metadata": {
    "colab": {},
    "colab_type": "code",
    "id": "x-nxqcf1HJRx"
   },
   "outputs": [],
   "source": []
  },
  {
   "cell_type": "code",
   "execution_count": null,
   "metadata": {
    "colab": {},
    "colab_type": "code",
    "id": "DQRq85VwHIws"
   },
   "outputs": [],
   "source": []
  },
  {
   "cell_type": "code",
   "execution_count": 4,
   "metadata": {
    "colab": {
     "base_uri": "https://localhost:8080/",
     "height": 213
    },
    "colab_type": "code",
    "executionInfo": {
     "elapsed": 4586,
     "status": "ok",
     "timestamp": 1598635558456,
     "user": {
      "displayName": "K&G",
      "photoUrl": "https://lh3.googleusercontent.com/a-/AOh14GjQVaumWhZIDKqccYE-sTwkiM8r_K8VFADW0TAy=s64",
      "userId": "11703084203318322732"
     },
     "user_tz": -60
    },
    "id": "gbD1ifT7Giu0",
    "outputId": "04f11a3a-f108-4aa2-e72d-149fd5962653"
   },
   "outputs": [
    {
     "name": "stdout",
     "output_type": "stream",
     "text": [
      "Collecting datetime\n",
      "\u001b[?25l  Downloading https://files.pythonhosted.org/packages/73/22/a5297f3a1f92468cc737f8ce7ba6e5f245fcfafeae810ba37bd1039ea01c/DateTime-4.3-py2.py3-none-any.whl (60kB)\n",
      "\u001b[K     |████████████████████████████████| 61kB 1.7MB/s eta 0:00:011\n",
      "\u001b[?25hRequirement already satisfied: pytz in /usr/local/lib/python2.7/dist-packages (from datetime) (2018.9)\n",
      "Collecting zope.interface\n",
      "\u001b[?25l  Downloading https://files.pythonhosted.org/packages/bb/79/6840e9ca1a68717d36248eb15bc4c01a56d252c66f03abc0202cb9ff4cbb/zope.interface-5.1.0-cp27-cp27mu-manylinux2010_x86_64.whl (230kB)\n",
      "\u001b[K     |████████████████████████████████| 235kB 6.6MB/s \n",
      "\u001b[?25hRequirement already satisfied: setuptools in /usr/local/lib/python2.7/dist-packages (from zope.interface->datetime) (44.1.1)\n",
      "Installing collected packages: zope.interface, datetime\n",
      "Successfully installed datetime-4.3 zope.interface-5.1.0\n"
     ]
    }
   ],
   "source": [
    "!pip install datetime"
   ]
  },
  {
   "cell_type": "markdown",
   "metadata": {
    "colab_type": "text",
    "id": "IsKrqbH1xwcD"
   },
   "source": [
    "El objetivo es utilizar el valor \"close\" de 2017 y 2018 de los valores de \"lista_val\" para construir 3 grupos de valores. Así como agrupamiento jerárquico.\n",
    "Creamos Dataframe Pandas y volcamos info"
   ]
  },
  {
   "cell_type": "code",
   "execution_count": 11,
   "metadata": {
    "colab": {},
    "colab_type": "code",
    "id": "xhZMx7VMxwcE"
   },
   "outputs": [],
   "source": [
    "\n",
    "import pandas as pd\n",
    "StockValues= pd.DataFrame(columns=lista_val)#creamos un dataframe donde vamos a volvar toda nuestra informacion extraida de la web \n",
    "for i in range (len(lista_val)):#iteramos para hacer el volcado \n",
    "    StockValues[lista_val[i]]=lis[i]\n",
    "    \n"
   ]
  },
  {
   "cell_type": "code",
   "execution_count": 12,
   "metadata": {
    "colab": {
     "base_uri": "https://localhost:8080/",
     "height": 1000
    },
    "colab_type": "code",
    "id": "BFyXyZEIxwcW",
    "outputId": "b1033242-ed1f-4c07-d7d1-86767304e1a0"
   },
   "outputs": [
    {
     "data": {
      "text/html": [
       "<div>\n",
       "<style scoped>\n",
       "    .dataframe tbody tr th:only-of-type {\n",
       "        vertical-align: middle;\n",
       "    }\n",
       "\n",
       "    .dataframe tbody tr th {\n",
       "        vertical-align: top;\n",
       "    }\n",
       "\n",
       "    .dataframe thead th {\n",
       "        text-align: right;\n",
       "    }\n",
       "</style>\n",
       "<table border=\"1\" class=\"dataframe\">\n",
       "  <thead>\n",
       "    <tr style=\"text-align: right;\">\n",
       "      <th></th>\n",
       "      <th>MSFT</th>\n",
       "      <th>AAPL</th>\n",
       "      <th>T</th>\n",
       "      <th>GOOGL</th>\n",
       "      <th>HPQ</th>\n",
       "      <th>VZ</th>\n",
       "      <th>CVX</th>\n",
       "      <th>ORAN</th>\n",
       "      <th>VOD</th>\n",
       "      <th>JPM</th>\n",
       "      <th>BBVA</th>\n",
       "      <th>RBS</th>\n",
       "      <th>BK</th>\n",
       "    </tr>\n",
       "    <tr>\n",
       "      <th>Date</th>\n",
       "      <th></th>\n",
       "      <th></th>\n",
       "      <th></th>\n",
       "      <th></th>\n",
       "      <th></th>\n",
       "      <th></th>\n",
       "      <th></th>\n",
       "      <th></th>\n",
       "      <th></th>\n",
       "      <th></th>\n",
       "      <th></th>\n",
       "      <th></th>\n",
       "      <th></th>\n",
       "    </tr>\n",
       "  </thead>\n",
       "  <tbody>\n",
       "    <tr>\n",
       "      <th>2018-01-02</th>\n",
       "      <td>85.949997</td>\n",
       "      <td>43.064999</td>\n",
       "      <td>38.540001</td>\n",
       "      <td>1073.209961</td>\n",
       "      <td>21.320000</td>\n",
       "      <td>53.529999</td>\n",
       "      <td>127.580002</td>\n",
       "      <td>17.580000</td>\n",
       "      <td>32.200001</td>\n",
       "      <td>107.949997</td>\n",
       "      <td>8.54</td>\n",
       "      <td>7.67</td>\n",
       "      <td>53.820000</td>\n",
       "    </tr>\n",
       "    <tr>\n",
       "      <th>2018-01-03</th>\n",
       "      <td>86.349998</td>\n",
       "      <td>43.057499</td>\n",
       "      <td>37.650002</td>\n",
       "      <td>1091.520020</td>\n",
       "      <td>21.370001</td>\n",
       "      <td>52.430000</td>\n",
       "      <td>128.509995</td>\n",
       "      <td>17.400000</td>\n",
       "      <td>31.990000</td>\n",
       "      <td>108.059998</td>\n",
       "      <td>8.54</td>\n",
       "      <td>7.59</td>\n",
       "      <td>54.150002</td>\n",
       "    </tr>\n",
       "    <tr>\n",
       "      <th>2018-01-04</th>\n",
       "      <td>87.110001</td>\n",
       "      <td>43.257500</td>\n",
       "      <td>38.000000</td>\n",
       "      <td>1095.760010</td>\n",
       "      <td>21.530001</td>\n",
       "      <td>52.599998</td>\n",
       "      <td>128.110001</td>\n",
       "      <td>17.530001</td>\n",
       "      <td>32.310001</td>\n",
       "      <td>109.040001</td>\n",
       "      <td>8.68</td>\n",
       "      <td>7.69</td>\n",
       "      <td>54.689999</td>\n",
       "    </tr>\n",
       "    <tr>\n",
       "      <th>2018-01-05</th>\n",
       "      <td>88.190002</td>\n",
       "      <td>43.750000</td>\n",
       "      <td>38.139999</td>\n",
       "      <td>1110.290039</td>\n",
       "      <td>21.750000</td>\n",
       "      <td>52.480000</td>\n",
       "      <td>127.900002</td>\n",
       "      <td>17.600000</td>\n",
       "      <td>32.580002</td>\n",
       "      <td>108.339996</td>\n",
       "      <td>8.77</td>\n",
       "      <td>7.63</td>\n",
       "      <td>54.830002</td>\n",
       "    </tr>\n",
       "    <tr>\n",
       "      <th>2018-01-08</th>\n",
       "      <td>88.279999</td>\n",
       "      <td>43.587502</td>\n",
       "      <td>38.250000</td>\n",
       "      <td>1114.209961</td>\n",
       "      <td>21.840000</td>\n",
       "      <td>52.389999</td>\n",
       "      <td>128.529999</td>\n",
       "      <td>17.650000</td>\n",
       "      <td>32.669998</td>\n",
       "      <td>108.500000</td>\n",
       "      <td>8.67</td>\n",
       "      <td>7.68</td>\n",
       "      <td>55.060001</td>\n",
       "    </tr>\n",
       "    <tr>\n",
       "      <th>...</th>\n",
       "      <td>...</td>\n",
       "      <td>...</td>\n",
       "      <td>...</td>\n",
       "      <td>...</td>\n",
       "      <td>...</td>\n",
       "      <td>...</td>\n",
       "      <td>...</td>\n",
       "      <td>...</td>\n",
       "      <td>...</td>\n",
       "      <td>...</td>\n",
       "      <td>...</td>\n",
       "      <td>...</td>\n",
       "      <td>...</td>\n",
       "    </tr>\n",
       "    <tr>\n",
       "      <th>2019-12-23</th>\n",
       "      <td>157.410004</td>\n",
       "      <td>71.000000</td>\n",
       "      <td>39.070000</td>\n",
       "      <td>1350.630005</td>\n",
       "      <td>20.559999</td>\n",
       "      <td>61.400002</td>\n",
       "      <td>120.330002</td>\n",
       "      <td>14.680000</td>\n",
       "      <td>19.360001</td>\n",
       "      <td>137.199997</td>\n",
       "      <td>5.58</td>\n",
       "      <td>6.30</td>\n",
       "      <td>50.369999</td>\n",
       "    </tr>\n",
       "    <tr>\n",
       "      <th>2019-12-24</th>\n",
       "      <td>157.380005</td>\n",
       "      <td>71.067497</td>\n",
       "      <td>38.959999</td>\n",
       "      <td>1344.430054</td>\n",
       "      <td>20.590000</td>\n",
       "      <td>61.279999</td>\n",
       "      <td>120.339996</td>\n",
       "      <td>14.590000</td>\n",
       "      <td>19.350000</td>\n",
       "      <td>137.580002</td>\n",
       "      <td>5.54</td>\n",
       "      <td>6.35</td>\n",
       "      <td>50.349998</td>\n",
       "    </tr>\n",
       "    <tr>\n",
       "      <th>2019-12-26</th>\n",
       "      <td>158.669998</td>\n",
       "      <td>72.477501</td>\n",
       "      <td>39.160000</td>\n",
       "      <td>1362.469971</td>\n",
       "      <td>20.690001</td>\n",
       "      <td>61.290001</td>\n",
       "      <td>120.599998</td>\n",
       "      <td>14.640000</td>\n",
       "      <td>19.410000</td>\n",
       "      <td>139.039993</td>\n",
       "      <td>5.59</td>\n",
       "      <td>6.38</td>\n",
       "      <td>50.490002</td>\n",
       "    </tr>\n",
       "    <tr>\n",
       "      <th>2019-12-27</th>\n",
       "      <td>158.960007</td>\n",
       "      <td>72.449997</td>\n",
       "      <td>39.240002</td>\n",
       "      <td>1354.640015</td>\n",
       "      <td>20.530001</td>\n",
       "      <td>61.529999</td>\n",
       "      <td>120.300003</td>\n",
       "      <td>14.680000</td>\n",
       "      <td>19.620001</td>\n",
       "      <td>139.139999</td>\n",
       "      <td>5.59</td>\n",
       "      <td>6.35</td>\n",
       "      <td>50.320000</td>\n",
       "    </tr>\n",
       "    <tr>\n",
       "      <th>2019-12-30</th>\n",
       "      <td>157.589996</td>\n",
       "      <td>72.879997</td>\n",
       "      <td>39.040001</td>\n",
       "      <td>1339.709961</td>\n",
       "      <td>20.490000</td>\n",
       "      <td>61.209999</td>\n",
       "      <td>119.849998</td>\n",
       "      <td>14.640000</td>\n",
       "      <td>19.340000</td>\n",
       "      <td>138.630005</td>\n",
       "      <td>5.56</td>\n",
       "      <td>6.36</td>\n",
       "      <td>50.180000</td>\n",
       "    </tr>\n",
       "  </tbody>\n",
       "</table>\n",
       "<p>502 rows × 13 columns</p>\n",
       "</div>"
      ],
      "text/plain": [
       "                  MSFT       AAPL          T        GOOGL        HPQ  \\\n",
       "Date                                                                   \n",
       "2018-01-02   85.949997  43.064999  38.540001  1073.209961  21.320000   \n",
       "2018-01-03   86.349998  43.057499  37.650002  1091.520020  21.370001   \n",
       "2018-01-04   87.110001  43.257500  38.000000  1095.760010  21.530001   \n",
       "2018-01-05   88.190002  43.750000  38.139999  1110.290039  21.750000   \n",
       "2018-01-08   88.279999  43.587502  38.250000  1114.209961  21.840000   \n",
       "...                ...        ...        ...          ...        ...   \n",
       "2019-12-23  157.410004  71.000000  39.070000  1350.630005  20.559999   \n",
       "2019-12-24  157.380005  71.067497  38.959999  1344.430054  20.590000   \n",
       "2019-12-26  158.669998  72.477501  39.160000  1362.469971  20.690001   \n",
       "2019-12-27  158.960007  72.449997  39.240002  1354.640015  20.530001   \n",
       "2019-12-30  157.589996  72.879997  39.040001  1339.709961  20.490000   \n",
       "\n",
       "                   VZ         CVX       ORAN        VOD         JPM  BBVA  \\\n",
       "Date                                                                        \n",
       "2018-01-02  53.529999  127.580002  17.580000  32.200001  107.949997  8.54   \n",
       "2018-01-03  52.430000  128.509995  17.400000  31.990000  108.059998  8.54   \n",
       "2018-01-04  52.599998  128.110001  17.530001  32.310001  109.040001  8.68   \n",
       "2018-01-05  52.480000  127.900002  17.600000  32.580002  108.339996  8.77   \n",
       "2018-01-08  52.389999  128.529999  17.650000  32.669998  108.500000  8.67   \n",
       "...               ...         ...        ...        ...         ...   ...   \n",
       "2019-12-23  61.400002  120.330002  14.680000  19.360001  137.199997  5.58   \n",
       "2019-12-24  61.279999  120.339996  14.590000  19.350000  137.580002  5.54   \n",
       "2019-12-26  61.290001  120.599998  14.640000  19.410000  139.039993  5.59   \n",
       "2019-12-27  61.529999  120.300003  14.680000  19.620001  139.139999  5.59   \n",
       "2019-12-30  61.209999  119.849998  14.640000  19.340000  138.630005  5.56   \n",
       "\n",
       "             RBS         BK  \n",
       "Date                         \n",
       "2018-01-02  7.67  53.820000  \n",
       "2018-01-03  7.59  54.150002  \n",
       "2018-01-04  7.69  54.689999  \n",
       "2018-01-05  7.63  54.830002  \n",
       "2018-01-08  7.68  55.060001  \n",
       "...          ...        ...  \n",
       "2019-12-23  6.30  50.369999  \n",
       "2019-12-24  6.35  50.349998  \n",
       "2019-12-26  6.38  50.490002  \n",
       "2019-12-27  6.35  50.320000  \n",
       "2019-12-30  6.36  50.180000  \n",
       "\n",
       "[502 rows x 13 columns]"
      ]
     },
     "execution_count": 12,
     "metadata": {},
     "output_type": "execute_result"
    }
   ],
   "source": [
    "StockValues"
   ]
  },
  {
   "cell_type": "markdown",
   "metadata": {
    "colab_type": "text",
    "id": "VBR5R3hLxwc9"
   },
   "source": [
    "Almacenamos el fichero, como csv y como pickle"
   ]
  },
  {
   "cell_type": "code",
   "execution_count": 15,
   "metadata": {
    "colab": {},
    "colab_type": "code",
    "id": "aEzEO91exwdF"
   },
   "outputs": [],
   "source": [
    "export_csv = StockValues.to_csv ('dataframe_stock.csv', index = None, header=True) #exportamos toda nuestra info a un fichero csv\n",
    "\n",
    "import pickle\n",
    "pickle.dump( StockValues, open( \"StockValues.p\", \"wb\" ) )#lo subimos a pickle para manejarlo de una manera mas eficiente \n",
    "\n",
    "StockValues2 = pickle.load( open( \"StockValues.p\", \"rb\" ) )\n",
    "stv=pd.read_csv('dataframe_stock.csv') "
   ]
  },
  {
   "cell_type": "code",
   "execution_count": 16,
   "metadata": {
    "colab": {},
    "colab_type": "code",
    "id": "MHUwF2Lbxwds"
   },
   "outputs": [
    {
     "name": "stdout",
     "output_type": "stream",
     "text": [
      "                  MSFT       AAPL          T        GOOGL        HPQ  \\\n",
      "Date                                                                   \n",
      "2018-01-02   85.949997  43.064999  38.540001  1073.209961  21.320000   \n",
      "2018-01-03   86.349998  43.057499  37.650002  1091.520020  21.370001   \n",
      "2018-01-04   87.110001  43.257500  38.000000  1095.760010  21.530001   \n",
      "2018-01-05   88.190002  43.750000  38.139999  1110.290039  21.750000   \n",
      "2018-01-08   88.279999  43.587502  38.250000  1114.209961  21.840000   \n",
      "...                ...        ...        ...          ...        ...   \n",
      "2019-12-23  157.410004  71.000000  39.070000  1350.630005  20.559999   \n",
      "2019-12-24  157.380005  71.067497  38.959999  1344.430054  20.590000   \n",
      "2019-12-26  158.669998  72.477501  39.160000  1362.469971  20.690001   \n",
      "2019-12-27  158.960007  72.449997  39.240002  1354.640015  20.530001   \n",
      "2019-12-30  157.589996  72.879997  39.040001  1339.709961  20.490000   \n",
      "\n",
      "                   VZ         CVX       ORAN        VOD         JPM  BBVA  \\\n",
      "Date                                                                        \n",
      "2018-01-02  53.529999  127.580002  17.580000  32.200001  107.949997  8.54   \n",
      "2018-01-03  52.430000  128.509995  17.400000  31.990000  108.059998  8.54   \n",
      "2018-01-04  52.599998  128.110001  17.530001  32.310001  109.040001  8.68   \n",
      "2018-01-05  52.480000  127.900002  17.600000  32.580002  108.339996  8.77   \n",
      "2018-01-08  52.389999  128.529999  17.650000  32.669998  108.500000  8.67   \n",
      "...               ...         ...        ...        ...         ...   ...   \n",
      "2019-12-23  61.400002  120.330002  14.680000  19.360001  137.199997  5.58   \n",
      "2019-12-24  61.279999  120.339996  14.590000  19.350000  137.580002  5.54   \n",
      "2019-12-26  61.290001  120.599998  14.640000  19.410000  139.039993  5.59   \n",
      "2019-12-27  61.529999  120.300003  14.680000  19.620001  139.139999  5.59   \n",
      "2019-12-30  61.209999  119.849998  14.640000  19.340000  138.630005  5.56   \n",
      "\n",
      "             RBS         BK  \n",
      "Date                         \n",
      "2018-01-02  7.67  53.820000  \n",
      "2018-01-03  7.59  54.150002  \n",
      "2018-01-04  7.69  54.689999  \n",
      "2018-01-05  7.63  54.830002  \n",
      "2018-01-08  7.68  55.060001  \n",
      "...          ...        ...  \n",
      "2019-12-23  6.30  50.369999  \n",
      "2019-12-24  6.35  50.349998  \n",
      "2019-12-26  6.38  50.490002  \n",
      "2019-12-27  6.35  50.320000  \n",
      "2019-12-30  6.36  50.180000  \n",
      "\n",
      "[502 rows x 13 columns]\n"
     ]
    }
   ],
   "source": [
    "print(StockValues2)"
   ]
  },
  {
   "cell_type": "code",
   "execution_count": null,
   "metadata": {
    "colab": {},
    "colab_type": "code",
    "id": "cjrxbRpvxweI",
    "outputId": "5ea874fa-ccd6-48f6-d03f-4c33b1cb4c9d"
   },
   "outputs": [],
   "source": []
  },
  {
   "cell_type": "code",
   "execution_count": null,
   "metadata": {
    "colab": {},
    "colab_type": "code",
    "id": "rW85V9r1xwe3"
   },
   "outputs": [],
   "source": []
  }
 ],
 "metadata": {
  "colab": {
   "name": "ejerbolsa2_(2).ipynb",
   "provenance": []
  },
  "kernelspec": {
   "display_name": "Python 3",
   "language": "python",
   "name": "python3"
  },
  "language_info": {
   "codemirror_mode": {
    "name": "ipython",
    "version": 3
   },
   "file_extension": ".py",
   "mimetype": "text/x-python",
   "name": "python",
   "nbconvert_exporter": "python",
   "pygments_lexer": "ipython3",
   "version": "3.8.5"
  }
 },
 "nbformat": 4,
 "nbformat_minor": 4
}

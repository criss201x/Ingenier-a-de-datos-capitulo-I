{
 "cells": [
  {
   "cell_type": "markdown",
   "metadata": {
    "colab_type": "text",
    "id": "XwT_5ujJ9L9e"
   },
   "source": [
    "# **Estudio de la correlación entre Empresas**"
   ]
  },
  {
   "cell_type": "code",
   "execution_count": 1,
   "metadata": {
    "colab": {
     "base_uri": "https://localhost:8080/",
     "height": 72
    },
    "colab_type": "code",
    "executionInfo": {
     "elapsed": 1978,
     "status": "ok",
     "timestamp": 1599851357240,
     "user": {
      "displayName": "K&G",
      "photoUrl": "https://lh3.googleusercontent.com/a-/AOh14GjQVaumWhZIDKqccYE-sTwkiM8r_K8VFADW0TAy=s64",
      "userId": "11703084203318322732"
     },
     "user_tz": -60
    },
    "id": "ynRvQqAw9IK9",
    "outputId": "3db89c72-8ef7-401d-a348-fa5814f5ac70"
   },
   "outputs": [],
   "source": [
    "import bs4 as bs#esta libreria permite hacer scraping \n",
    "import datetime as dt\n",
    "import os\n",
    "import numpy as np\n",
    "import pandas as pd\n",
    "from pandas_datareader import data as wb\n",
    "import pickle\n",
    "import requests#esta libreria maneja todas las peticiones http cuando se accede a una pagina web \n",
    "import matplotlib.pyplot as plt\n",
    "import seaborn as sb\n",
    "%matplotlib inline  "
   ]
  },
  {
   "cell_type": "code",
   "execution_count": 2,
   "metadata": {
    "colab": {
     "base_uri": "https://localhost:8080/",
     "height": 52
    },
    "colab_type": "code",
    "executionInfo": {
     "elapsed": 3228,
     "status": "ok",
     "timestamp": 1599851362645,
     "user": {
      "displayName": "K&G",
      "photoUrl": "https://lh3.googleusercontent.com/a-/AOh14GjQVaumWhZIDKqccYE-sTwkiM8r_K8VFADW0TAy=s64",
      "userId": "11703084203318322732"
     },
     "user_tz": -60
    },
    "id": "EdJkGDIw5C_B",
    "outputId": "f2172149-6a32-4379-aea4-a707f7be7773"
   },
   "outputs": [
    {
     "name": "stderr",
     "output_type": "stream",
     "text": [
      "ERROR: Could not find a version that satisfies the requirement bokeh.plotting (from versions: none)\n",
      "ERROR: No matching distribution found for bokeh.plotting\n"
     ]
    }
   ],
   "source": [
    "!pip install bokeh.plotting"
   ]
  },
  {
   "cell_type": "markdown",
   "metadata": {
    "colab": {},
    "colab_type": "code",
    "id": "GaHc7HBC5McL"
   },
   "source": [
    "## se van a analizar las 500 empresas norteamericanas mas importantes "
   ]
  },
  {
   "cell_type": "code",
   "execution_count": 3,
   "metadata": {
    "colab": {},
    "colab_type": "code",
    "id": "HfFOfBQX5PAV"
   },
   "outputs": [],
   "source": [
    "from bokeh.io import show\n",
    "from bokeh.models import BasicTicker, ColorBar, LinearColorMapper, PrintfTickFormatter\n",
    "from bokeh.plotting import figure\n",
    "from bokeh.sampledata.unemployment1948 import data"
   ]
  },
  {
   "cell_type": "code",
   "execution_count": 4,
   "metadata": {
    "colab": {},
    "colab_type": "code",
    "id": "5SGClFZF9u5W"
   },
   "outputs": [],
   "source": [
    "def sp500():\n",
    "  resp = requests.get(\"https://en.wikipedia.org/wiki/List_of_S%26P_500_companies\")#accedemos a la pagina web de wikipedia donde tenemos las 500 empresas\n",
    "  soup = bs.BeautifulSoup(resp.text,\"lxml\")#convertimos la informacion en lxml para que la data sea mas tratable \n",
    "  table = soup.find('table',{'class':'wikitable sortable'})#buscamos la tabla html que hay detras de la pagina web que almacena esa informacion \n",
    "  #print(table)\n",
    "  empresas = []\n",
    "  for row in table.findAll('tr')[1:]:#nos quedamos con la etiqueta tr, esta es muy comun en html ya que representa el comienzo de una tabla \n",
    "    empresa = row.findAll('td')[0].text#nos quedamos con la etiqueta td, esta es muy comun en html ya que representa el comienzo de una tupla\n",
    "    empresas.append(empresa)#nos quedamos unicamente con el nombre\n",
    "  with open(\"sp500.pickle\",\"wb\") as f:#guarde los archivos en modo escritura \n",
    "    pickle.dump(empresas,f)#el formato pickle es similar a csv pero la lectura se hace por columnas \n",
    "  return empresas\n",
    "  #print(empresas)\n",
    "    #imprimimos y devolvera un conjunto de etiquetas html con sus respectivos valores y nos quedamos con su abreviatura "
   ]
  },
  {
   "cell_type": "code",
   "execution_count": 5,
   "metadata": {
    "colab": {
     "base_uri": "https://localhost:8080/",
     "height": 54
    },
    "colab_type": "code",
    "executionInfo": {
     "elapsed": 2138,
     "status": "ok",
     "timestamp": 1599851375076,
     "user": {
      "displayName": "K&G",
      "photoUrl": "https://lh3.googleusercontent.com/a-/AOh14GjQVaumWhZIDKqccYE-sTwkiM8r_K8VFADW0TAy=s64",
      "userId": "11703084203318322732"
     },
     "user_tz": -60
    },
    "id": "k8beYcqN9pY9",
    "outputId": "429c2c4f-dfa3-4e85-f129-914196739501"
   },
   "outputs": [
    {
     "name": "stdout",
     "output_type": "stream",
     "text": [
      "['MMM\\n', 'ABT\\n', 'ABBV\\n', 'ABMD\\n', 'ACN\\n', 'ATVI\\n', 'ADBE\\n', 'AMD\\n', 'AAP\\n', 'AES\\n', 'AFL\\n', 'A\\n', 'APD\\n', 'AKAM\\n', 'ALK\\n', 'ALB\\n', 'ARE\\n', 'ALXN\\n', 'ALGN\\n', 'ALLE\\n', 'LNT\\n', 'ALL\\n', 'GOOGL\\n', 'GOOG\\n', 'MO\\n', 'AMZN\\n', 'AMCR\\n', 'AEE\\n', 'AAL\\n', 'AEP\\n', 'AXP\\n', 'AIG\\n', 'AMT\\n', 'AWK\\n', 'AMP\\n', 'ABC\\n', 'AME\\n', 'AMGN\\n', 'APH\\n', 'ADI\\n', 'ANSS\\n', 'ANTM\\n', 'AON\\n', 'AOS\\n', 'APA\\n', 'AAPL\\n', 'AMAT\\n', 'APTV\\n', 'ADM\\n', 'ANET\\n', 'AJG\\n', 'AIZ\\n', 'T\\n', 'ATO\\n', 'ADSK\\n', 'ADP\\n', 'AZO\\n', 'AVB\\n', 'AVY\\n', 'BKR\\n', 'BLL\\n', 'BAC\\n', 'BK\\n', 'BAX\\n', 'BDX\\n', 'BRK.B\\n', 'BBY\\n', 'BIO\\n', 'BIIB\\n', 'BLK\\n', 'BA\\n', 'BKNG\\n', 'BWA\\n', 'BXP\\n', 'BSX\\n', 'BMY\\n', 'AVGO\\n', 'BR\\n', 'BF.B\\n', 'CHRW\\n', 'COG\\n', 'CDNS\\n', 'CPB\\n', 'COF\\n', 'CAH\\n', 'KMX\\n', 'CCL\\n', 'CARR\\n', 'CTLT\\n', 'CAT\\n', 'CBOE\\n', 'CBRE\\n', 'CDW\\n', 'CE\\n', 'CNC\\n', 'CNP\\n', 'CERN\\n', 'CF\\n', 'SCHW\\n', 'CHTR\\n', 'CVX\\n', 'CMG\\n', 'CB\\n', 'CHD\\n', 'CI\\n', 'CINF\\n', 'CTAS\\n', 'CSCO\\n', 'C\\n', 'CFG\\n', 'CTXS\\n', 'CLX\\n', 'CME\\n', 'CMS\\n', 'KO\\n', 'CTSH\\n', 'CL\\n', 'CMCSA\\n', 'CMA\\n', 'CAG\\n', 'COP\\n', 'ED\\n', 'STZ\\n', 'COO\\n', 'CPRT\\n', 'GLW\\n', 'CTVA\\n', 'COST\\n', 'CCI\\n', 'CSX\\n', 'CMI\\n', 'CVS\\n', 'DHI\\n', 'DHR\\n', 'DRI\\n', 'DVA\\n', 'DE\\n', 'DAL\\n', 'XRAY\\n', 'DVN\\n', 'DXCM\\n', 'FANG\\n', 'DLR\\n', 'DFS\\n', 'DISCA\\n', 'DISCK\\n', 'DISH\\n', 'DG\\n', 'DLTR\\n', 'D\\n', 'DPZ\\n', 'DOV\\n', 'DOW\\n', 'DTE\\n', 'DUK\\n', 'DRE\\n', 'DD\\n', 'DXC\\n', 'EMN\\n', 'ETN\\n', 'EBAY\\n', 'ECL\\n', 'EIX\\n', 'EW\\n', 'EA\\n', 'EMR\\n', 'ENPH\\n', 'ETR\\n', 'EOG\\n', 'EFX\\n', 'EQIX\\n', 'EQR\\n', 'ESS\\n', 'EL\\n', 'ETSY\\n', 'EVRG\\n', 'ES\\n', 'RE\\n', 'EXC\\n', 'EXPE\\n', 'EXPD\\n', 'EXR\\n', 'XOM\\n', 'FFIV\\n', 'FB\\n', 'FAST\\n', 'FRT\\n', 'FDX\\n', 'FIS\\n', 'FITB\\n', 'FE\\n', 'FRC\\n', 'FISV\\n', 'FLT\\n', 'FLIR\\n', 'FLS\\n', 'FMC\\n', 'F\\n', 'FTNT\\n', 'FTV\\n', 'FBHS\\n', 'FOXA\\n', 'FOX\\n', 'BEN\\n', 'FCX\\n', 'GPS\\n', 'GRMN\\n', 'IT\\n', 'GD\\n', 'GE\\n', 'GIS\\n', 'GM\\n', 'GPC\\n', 'GILD\\n', 'GL\\n', 'GPN\\n', 'GS\\n', 'GWW\\n', 'HAL\\n', 'HBI\\n', 'HIG\\n', 'HAS\\n', 'HCA\\n', 'PEAK\\n', 'HSIC\\n', 'HSY\\n', 'HES\\n', 'HPE\\n', 'HLT\\n', 'HFC\\n', 'HOLX\\n', 'HD\\n', 'HON\\n', 'HRL\\n', 'HST\\n', 'HWM\\n', 'HPQ\\n', 'HUM\\n', 'HBAN\\n', 'HII\\n', 'IEX\\n', 'IDXX\\n', 'INFO\\n', 'ITW\\n', 'ILMN\\n', 'INCY\\n', 'IR\\n', 'INTC\\n', 'ICE\\n', 'IBM\\n', 'IP\\n', 'IPG\\n', 'IFF\\n', 'INTU\\n', 'ISRG\\n', 'IVZ\\n', 'IPGP\\n', 'IQV\\n', 'IRM\\n', 'JKHY\\n', 'J\\n', 'JBHT\\n', 'SJM\\n', 'JNJ\\n', 'JCI\\n', 'JPM\\n', 'JNPR\\n', 'KSU\\n', 'K\\n', 'KEY\\n', 'KEYS\\n', 'KMB\\n', 'KIM\\n', 'KMI\\n', 'KLAC\\n', 'KHC\\n', 'KR\\n', 'LB\\n', 'LHX\\n', 'LH\\n', 'LRCX\\n', 'LW\\n', 'LVS\\n', 'LEG\\n', 'LDOS\\n', 'LEN\\n', 'LLY\\n', 'LNC\\n', 'LIN\\n', 'LYV\\n', 'LKQ\\n', 'LMT\\n', 'L\\n', 'LOW\\n', 'LUMN\\n', 'LYB\\n', 'MTB\\n', 'MRO\\n', 'MPC\\n', 'MKTX\\n', 'MAR\\n', 'MMC\\n', 'MLM\\n', 'MAS\\n', 'MA\\n', 'MKC\\n', 'MXIM\\n', 'MCD\\n', 'MCK\\n', 'MDT\\n', 'MRK\\n', 'MET\\n', 'MTD\\n', 'MGM\\n', 'MCHP\\n', 'MU\\n', 'MSFT\\n', 'MAA\\n', 'MHK\\n', 'TAP\\n', 'MDLZ\\n', 'MNST\\n', 'MCO\\n', 'MS\\n', 'MOS\\n', 'MSI\\n', 'MSCI\\n', 'NDAQ\\n', 'NTAP\\n', 'NFLX\\n', 'NWL\\n', 'NEM\\n', 'NWSA\\n', 'NWS\\n', 'NEE\\n', 'NLSN\\n', 'NKE\\n', 'NI\\n', 'NSC\\n', 'NTRS\\n', 'NOC\\n', 'NLOK\\n', 'NCLH\\n', 'NOV\\n', 'NRG\\n', 'NUE\\n', 'NVDA\\n', 'NVR\\n', 'ORLY\\n', 'OXY\\n', 'ODFL\\n', 'OMC\\n', 'OKE\\n', 'ORCL\\n', 'OTIS\\n', 'PCAR\\n', 'PKG\\n', 'PH\\n', 'PAYX\\n', 'PAYC\\n', 'PYPL\\n', 'PNR\\n', 'PBCT\\n', 'PEP\\n', 'PKI\\n', 'PRGO\\n', 'PFE\\n', 'PM\\n', 'PSX\\n', 'PNW\\n', 'PXD\\n', 'PNC\\n', 'POOL\\n', 'PPG\\n', 'PPL\\n', 'PFG\\n', 'PG\\n', 'PGR\\n', 'PLD\\n', 'PRU\\n', 'PEG\\n', 'PSA\\n', 'PHM\\n', 'PVH\\n', 'QRVO\\n', 'PWR\\n', 'QCOM\\n', 'DGX\\n', 'RL\\n', 'RJF\\n', 'RTX\\n', 'O\\n', 'REG\\n', 'REGN\\n', 'RF\\n', 'RSG\\n', 'RMD\\n', 'RHI\\n', 'ROK\\n', 'ROL\\n', 'ROP\\n', 'ROST\\n', 'RCL\\n', 'SPGI\\n', 'CRM\\n', 'SBAC\\n', 'SLB\\n', 'STX\\n', 'SEE\\n', 'SRE\\n', 'NOW\\n', 'SHW\\n', 'SPG\\n', 'SWKS\\n', 'SLG\\n', 'SNA\\n', 'SO\\n', 'LUV\\n', 'SWK\\n', 'SBUX\\n', 'STT\\n', 'STE\\n', 'SYK\\n', 'SIVB\\n', 'SYF\\n', 'SNPS\\n', 'SYY\\n', 'TMUS\\n', 'TROW\\n', 'TTWO\\n', 'TPR\\n', 'TGT\\n', 'TEL\\n', 'FTI\\n', 'TDY\\n', 'TFX\\n', 'TER\\n', 'TSLA\\n', 'TXN\\n', 'TXT\\n', 'TMO\\n', 'TJX\\n', 'TSCO\\n', 'TT\\n', 'TDG\\n', 'TRV\\n', 'TRMB\\n', 'TFC\\n', 'TWTR\\n', 'TYL\\n', 'TSN\\n', 'UDR\\n', 'ULTA\\n', 'USB\\n', 'UAA\\n', 'UA\\n', 'UNP\\n', 'UAL\\n', 'UNH\\n', 'UPS\\n', 'URI\\n', 'UHS\\n', 'UNM\\n', 'VLO\\n', 'VAR\\n', 'VTR\\n', 'VRSN\\n', 'VRSK\\n', 'VZ\\n', 'VRTX\\n', 'VFC\\n', 'VIAC\\n', 'VTRS\\n', 'V\\n', 'VNT\\n', 'VNO\\n', 'VMC\\n', 'WRB\\n', 'WAB\\n', 'WMT\\n', 'WBA\\n', 'DIS\\n', 'WM\\n', 'WAT\\n', 'WEC\\n', 'WFC\\n', 'WELL\\n', 'WST\\n', 'WDC\\n', 'WU\\n', 'WRK\\n', 'WY\\n', 'WHR\\n', 'WMB\\n', 'WLTW\\n', 'WYNN\\n', 'XEL\\n', 'XRX\\n', 'XLNX\\n', 'XYL\\n', 'YUM\\n', 'ZBRA\\n', 'ZBH\\n', 'ZION\\n', 'ZTS\\n']\n"
     ]
    }
   ],
   "source": [
    "empresas = sp500()#la barra n se debe eliminar \n",
    "print(empresas)"
   ]
  },
  {
   "cell_type": "markdown",
   "metadata": {},
   "source": [
    "## Procesamiento de datos "
   ]
  },
  {
   "cell_type": "code",
   "execution_count": 7,
   "metadata": {
    "colab": {},
    "colab_type": "code",
    "id": "kGpg9xvPVc-o"
   },
   "outputs": [],
   "source": [
    "def take_data():#esta funcion remueve el \\n\n",
    "  with open(\"sp500.pickle\",\"rb\") as f:#abrimos el archivo pickle en modo lectura \n",
    "    empresas = pickle.load(f)#guaramos la info en una variable normal \n",
    "    res = [] \n",
    "    for sub in empresas: \n",
    "      res.append(sub.replace(\"\\n\", \"\"))#remueve el caracter \\n \n",
    "    return res\n",
    "    #print(res) \n",
    "  "
   ]
  },
  {
   "cell_type": "code",
   "execution_count": 8,
   "metadata": {
    "colab": {
     "base_uri": "https://localhost:8080/",
     "height": 1000
    },
    "colab_type": "code",
    "executionInfo": {
     "elapsed": 913,
     "status": "ok",
     "timestamp": 1599852041980,
     "user": {
      "displayName": "K&G",
      "photoUrl": "https://lh3.googleusercontent.com/a-/AOh14GjQVaumWhZIDKqccYE-sTwkiM8r_K8VFADW0TAy=s64",
      "userId": "11703084203318322732"
     },
     "user_tz": -60
    },
    "id": "RU7QcLvISmta",
    "outputId": "901eda08-465a-4623-8a4a-12f270b74a79"
   },
   "outputs": [
    {
     "data": {
      "text/plain": [
       "['MMM',\n",
       " 'ABT',\n",
       " 'ABBV',\n",
       " 'ABMD',\n",
       " 'ACN',\n",
       " 'ATVI',\n",
       " 'ADBE',\n",
       " 'AMD',\n",
       " 'AAP',\n",
       " 'AES',\n",
       " 'AFL',\n",
       " 'A',\n",
       " 'APD',\n",
       " 'AKAM',\n",
       " 'ALK',\n",
       " 'ALB',\n",
       " 'ARE',\n",
       " 'ALXN',\n",
       " 'ALGN',\n",
       " 'ALLE',\n",
       " 'LNT',\n",
       " 'ALL',\n",
       " 'GOOGL',\n",
       " 'GOOG',\n",
       " 'MO',\n",
       " 'AMZN',\n",
       " 'AMCR',\n",
       " 'AEE',\n",
       " 'AAL',\n",
       " 'AEP',\n",
       " 'AXP',\n",
       " 'AIG',\n",
       " 'AMT',\n",
       " 'AWK',\n",
       " 'AMP',\n",
       " 'ABC',\n",
       " 'AME',\n",
       " 'AMGN',\n",
       " 'APH',\n",
       " 'ADI',\n",
       " 'ANSS',\n",
       " 'ANTM',\n",
       " 'AON',\n",
       " 'AOS',\n",
       " 'APA',\n",
       " 'AAPL',\n",
       " 'AMAT',\n",
       " 'APTV',\n",
       " 'ADM',\n",
       " 'ANET',\n",
       " 'AJG',\n",
       " 'AIZ',\n",
       " 'T',\n",
       " 'ATO',\n",
       " 'ADSK',\n",
       " 'ADP',\n",
       " 'AZO',\n",
       " 'AVB',\n",
       " 'AVY',\n",
       " 'BKR',\n",
       " 'BLL',\n",
       " 'BAC',\n",
       " 'BK',\n",
       " 'BAX',\n",
       " 'BDX',\n",
       " 'BRK.B',\n",
       " 'BBY',\n",
       " 'BIO',\n",
       " 'BIIB',\n",
       " 'BLK',\n",
       " 'BA',\n",
       " 'BKNG',\n",
       " 'BWA',\n",
       " 'BXP',\n",
       " 'BSX',\n",
       " 'BMY',\n",
       " 'AVGO',\n",
       " 'BR',\n",
       " 'BF.B',\n",
       " 'CHRW',\n",
       " 'COG',\n",
       " 'CDNS',\n",
       " 'CPB',\n",
       " 'COF',\n",
       " 'CAH',\n",
       " 'KMX',\n",
       " 'CCL',\n",
       " 'CARR',\n",
       " 'CTLT',\n",
       " 'CAT',\n",
       " 'CBOE',\n",
       " 'CBRE',\n",
       " 'CDW',\n",
       " 'CE',\n",
       " 'CNC',\n",
       " 'CNP',\n",
       " 'CERN',\n",
       " 'CF',\n",
       " 'SCHW',\n",
       " 'CHTR',\n",
       " 'CVX',\n",
       " 'CMG',\n",
       " 'CB',\n",
       " 'CHD',\n",
       " 'CI',\n",
       " 'CINF',\n",
       " 'CTAS',\n",
       " 'CSCO',\n",
       " 'C',\n",
       " 'CFG',\n",
       " 'CTXS',\n",
       " 'CLX',\n",
       " 'CME',\n",
       " 'CMS',\n",
       " 'KO',\n",
       " 'CTSH',\n",
       " 'CL',\n",
       " 'CMCSA',\n",
       " 'CMA',\n",
       " 'CAG',\n",
       " 'COP',\n",
       " 'ED',\n",
       " 'STZ',\n",
       " 'COO',\n",
       " 'CPRT',\n",
       " 'GLW',\n",
       " 'CTVA',\n",
       " 'COST',\n",
       " 'CCI',\n",
       " 'CSX',\n",
       " 'CMI',\n",
       " 'CVS',\n",
       " 'DHI',\n",
       " 'DHR',\n",
       " 'DRI',\n",
       " 'DVA',\n",
       " 'DE',\n",
       " 'DAL',\n",
       " 'XRAY',\n",
       " 'DVN',\n",
       " 'DXCM',\n",
       " 'FANG',\n",
       " 'DLR',\n",
       " 'DFS',\n",
       " 'DISCA',\n",
       " 'DISCK',\n",
       " 'DISH',\n",
       " 'DG',\n",
       " 'DLTR',\n",
       " 'D',\n",
       " 'DPZ',\n",
       " 'DOV',\n",
       " 'DOW',\n",
       " 'DTE',\n",
       " 'DUK',\n",
       " 'DRE',\n",
       " 'DD',\n",
       " 'DXC',\n",
       " 'EMN',\n",
       " 'ETN',\n",
       " 'EBAY',\n",
       " 'ECL',\n",
       " 'EIX',\n",
       " 'EW',\n",
       " 'EA',\n",
       " 'EMR',\n",
       " 'ENPH',\n",
       " 'ETR',\n",
       " 'EOG',\n",
       " 'EFX',\n",
       " 'EQIX',\n",
       " 'EQR',\n",
       " 'ESS',\n",
       " 'EL',\n",
       " 'ETSY',\n",
       " 'EVRG',\n",
       " 'ES',\n",
       " 'RE',\n",
       " 'EXC',\n",
       " 'EXPE',\n",
       " 'EXPD',\n",
       " 'EXR',\n",
       " 'XOM',\n",
       " 'FFIV',\n",
       " 'FB',\n",
       " 'FAST',\n",
       " 'FRT',\n",
       " 'FDX',\n",
       " 'FIS',\n",
       " 'FITB',\n",
       " 'FE',\n",
       " 'FRC',\n",
       " 'FISV',\n",
       " 'FLT',\n",
       " 'FLIR',\n",
       " 'FLS',\n",
       " 'FMC',\n",
       " 'F',\n",
       " 'FTNT',\n",
       " 'FTV',\n",
       " 'FBHS',\n",
       " 'FOXA',\n",
       " 'FOX',\n",
       " 'BEN',\n",
       " 'FCX',\n",
       " 'GPS',\n",
       " 'GRMN',\n",
       " 'IT',\n",
       " 'GD',\n",
       " 'GE',\n",
       " 'GIS',\n",
       " 'GM',\n",
       " 'GPC',\n",
       " 'GILD',\n",
       " 'GL',\n",
       " 'GPN',\n",
       " 'GS',\n",
       " 'GWW',\n",
       " 'HAL',\n",
       " 'HBI',\n",
       " 'HIG',\n",
       " 'HAS',\n",
       " 'HCA',\n",
       " 'PEAK',\n",
       " 'HSIC',\n",
       " 'HSY',\n",
       " 'HES',\n",
       " 'HPE',\n",
       " 'HLT',\n",
       " 'HFC',\n",
       " 'HOLX',\n",
       " 'HD',\n",
       " 'HON',\n",
       " 'HRL',\n",
       " 'HST',\n",
       " 'HWM',\n",
       " 'HPQ',\n",
       " 'HUM',\n",
       " 'HBAN',\n",
       " 'HII',\n",
       " 'IEX',\n",
       " 'IDXX',\n",
       " 'INFO',\n",
       " 'ITW',\n",
       " 'ILMN',\n",
       " 'INCY',\n",
       " 'IR',\n",
       " 'INTC',\n",
       " 'ICE',\n",
       " 'IBM',\n",
       " 'IP',\n",
       " 'IPG',\n",
       " 'IFF',\n",
       " 'INTU',\n",
       " 'ISRG',\n",
       " 'IVZ',\n",
       " 'IPGP',\n",
       " 'IQV',\n",
       " 'IRM',\n",
       " 'JKHY',\n",
       " 'J',\n",
       " 'JBHT',\n",
       " 'SJM',\n",
       " 'JNJ',\n",
       " 'JCI',\n",
       " 'JPM',\n",
       " 'JNPR',\n",
       " 'KSU',\n",
       " 'K',\n",
       " 'KEY',\n",
       " 'KEYS',\n",
       " 'KMB',\n",
       " 'KIM',\n",
       " 'KMI',\n",
       " 'KLAC',\n",
       " 'KHC',\n",
       " 'KR',\n",
       " 'LB',\n",
       " 'LHX',\n",
       " 'LH',\n",
       " 'LRCX',\n",
       " 'LW',\n",
       " 'LVS',\n",
       " 'LEG',\n",
       " 'LDOS',\n",
       " 'LEN',\n",
       " 'LLY',\n",
       " 'LNC',\n",
       " 'LIN',\n",
       " 'LYV',\n",
       " 'LKQ',\n",
       " 'LMT',\n",
       " 'L',\n",
       " 'LOW',\n",
       " 'LUMN',\n",
       " 'LYB',\n",
       " 'MTB',\n",
       " 'MRO',\n",
       " 'MPC',\n",
       " 'MKTX',\n",
       " 'MAR',\n",
       " 'MMC',\n",
       " 'MLM',\n",
       " 'MAS',\n",
       " 'MA',\n",
       " 'MKC',\n",
       " 'MXIM',\n",
       " 'MCD',\n",
       " 'MCK',\n",
       " 'MDT',\n",
       " 'MRK',\n",
       " 'MET',\n",
       " 'MTD',\n",
       " 'MGM',\n",
       " 'MCHP',\n",
       " 'MU',\n",
       " 'MSFT',\n",
       " 'MAA',\n",
       " 'MHK',\n",
       " 'TAP',\n",
       " 'MDLZ',\n",
       " 'MNST',\n",
       " 'MCO',\n",
       " 'MS',\n",
       " 'MOS',\n",
       " 'MSI',\n",
       " 'MSCI',\n",
       " 'NDAQ',\n",
       " 'NTAP',\n",
       " 'NFLX',\n",
       " 'NWL',\n",
       " 'NEM',\n",
       " 'NWSA',\n",
       " 'NWS',\n",
       " 'NEE',\n",
       " 'NLSN',\n",
       " 'NKE',\n",
       " 'NI',\n",
       " 'NSC',\n",
       " 'NTRS',\n",
       " 'NOC',\n",
       " 'NLOK',\n",
       " 'NCLH',\n",
       " 'NOV',\n",
       " 'NRG',\n",
       " 'NUE',\n",
       " 'NVDA',\n",
       " 'NVR',\n",
       " 'ORLY',\n",
       " 'OXY',\n",
       " 'ODFL',\n",
       " 'OMC',\n",
       " 'OKE',\n",
       " 'ORCL',\n",
       " 'OTIS',\n",
       " 'PCAR',\n",
       " 'PKG',\n",
       " 'PH',\n",
       " 'PAYX',\n",
       " 'PAYC',\n",
       " 'PYPL',\n",
       " 'PNR',\n",
       " 'PBCT',\n",
       " 'PEP',\n",
       " 'PKI',\n",
       " 'PRGO',\n",
       " 'PFE',\n",
       " 'PM',\n",
       " 'PSX',\n",
       " 'PNW',\n",
       " 'PXD',\n",
       " 'PNC',\n",
       " 'POOL',\n",
       " 'PPG',\n",
       " 'PPL',\n",
       " 'PFG',\n",
       " 'PG',\n",
       " 'PGR',\n",
       " 'PLD',\n",
       " 'PRU',\n",
       " 'PEG',\n",
       " 'PSA',\n",
       " 'PHM',\n",
       " 'PVH',\n",
       " 'QRVO',\n",
       " 'PWR',\n",
       " 'QCOM',\n",
       " 'DGX',\n",
       " 'RL',\n",
       " 'RJF',\n",
       " 'RTX',\n",
       " 'O',\n",
       " 'REG',\n",
       " 'REGN',\n",
       " 'RF',\n",
       " 'RSG',\n",
       " 'RMD',\n",
       " 'RHI',\n",
       " 'ROK',\n",
       " 'ROL',\n",
       " 'ROP',\n",
       " 'ROST',\n",
       " 'RCL',\n",
       " 'SPGI',\n",
       " 'CRM',\n",
       " 'SBAC',\n",
       " 'SLB',\n",
       " 'STX',\n",
       " 'SEE',\n",
       " 'SRE',\n",
       " 'NOW',\n",
       " 'SHW',\n",
       " 'SPG',\n",
       " 'SWKS',\n",
       " 'SLG',\n",
       " 'SNA',\n",
       " 'SO',\n",
       " 'LUV',\n",
       " 'SWK',\n",
       " 'SBUX',\n",
       " 'STT',\n",
       " 'STE',\n",
       " 'SYK',\n",
       " 'SIVB',\n",
       " 'SYF',\n",
       " 'SNPS',\n",
       " 'SYY',\n",
       " 'TMUS',\n",
       " 'TROW',\n",
       " 'TTWO',\n",
       " 'TPR',\n",
       " 'TGT',\n",
       " 'TEL',\n",
       " 'FTI',\n",
       " 'TDY',\n",
       " 'TFX',\n",
       " 'TER',\n",
       " 'TSLA',\n",
       " 'TXN',\n",
       " 'TXT',\n",
       " 'TMO',\n",
       " 'TJX',\n",
       " 'TSCO',\n",
       " 'TT',\n",
       " 'TDG',\n",
       " 'TRV',\n",
       " 'TRMB',\n",
       " 'TFC',\n",
       " 'TWTR',\n",
       " 'TYL',\n",
       " 'TSN',\n",
       " 'UDR',\n",
       " 'ULTA',\n",
       " 'USB',\n",
       " 'UAA',\n",
       " 'UA',\n",
       " 'UNP',\n",
       " 'UAL',\n",
       " 'UNH',\n",
       " 'UPS',\n",
       " 'URI',\n",
       " 'UHS',\n",
       " 'UNM',\n",
       " 'VLO',\n",
       " 'VAR',\n",
       " 'VTR',\n",
       " 'VRSN',\n",
       " 'VRSK',\n",
       " 'VZ',\n",
       " 'VRTX',\n",
       " 'VFC',\n",
       " 'VIAC',\n",
       " 'VTRS',\n",
       " 'V',\n",
       " 'VNT',\n",
       " 'VNO',\n",
       " 'VMC',\n",
       " 'WRB',\n",
       " 'WAB',\n",
       " 'WMT',\n",
       " 'WBA',\n",
       " 'DIS',\n",
       " 'WM',\n",
       " 'WAT',\n",
       " 'WEC',\n",
       " 'WFC',\n",
       " 'WELL',\n",
       " 'WST',\n",
       " 'WDC',\n",
       " 'WU',\n",
       " 'WRK',\n",
       " 'WY',\n",
       " 'WHR',\n",
       " 'WMB',\n",
       " 'WLTW',\n",
       " 'WYNN',\n",
       " 'XEL',\n",
       " 'XRX',\n",
       " 'XLNX',\n",
       " 'XYL',\n",
       " 'YUM',\n",
       " 'ZBRA',\n",
       " 'ZBH',\n",
       " 'ZION',\n",
       " 'ZTS']"
      ]
     },
     "execution_count": 8,
     "metadata": {},
     "output_type": "execute_result"
    }
   ],
   "source": [
    "res = take_data()#podemos ver los datos limpios \n",
    "res"
   ]
  },
  {
   "cell_type": "code",
   "execution_count": 9,
   "metadata": {
    "colab": {
     "base_uri": "https://localhost:8080/",
     "height": 54
    },
    "colab_type": "code",
    "executionInfo": {
     "elapsed": 868,
     "status": "ok",
     "timestamp": 1599852034404,
     "user": {
      "displayName": "K&G",
      "photoUrl": "https://lh3.googleusercontent.com/a-/AOh14GjQVaumWhZIDKqccYE-sTwkiM8r_K8VFADW0TAy=s64",
      "userId": "11703084203318322732"
     },
     "user_tz": -60
    },
    "id": "QZ5b54vzi5lR",
    "outputId": "77abc99d-bcec-4ce4-cf9a-2eed98ef0346"
   },
   "outputs": [
    {
     "name": "stdout",
     "output_type": "stream",
     "text": [
      "['ROP', 'ROST', 'RCL', 'SPGI', 'CRM', 'SBAC', 'SLB', 'STX', 'SEE', 'SRE', 'NOW', 'SHW', 'SPG', 'SWKS', 'SLG', 'SNA', 'SO', 'LUV', 'SWK', 'SBUX', 'STT', 'STE', 'SYK', 'SIVB', 'SYF', 'SNPS', 'SYY', 'TMUS', 'TROW', 'TTWO', 'TPR', 'TGT', 'TEL', 'FTI', 'TDY', 'TFX', 'TER', 'TSLA', 'TXN', 'TXT', 'TMO', 'TJX', 'TSCO', 'TT', 'TDG', 'TRV', 'TRMB', 'TFC', 'TWTR', 'TYL', 'TSN', 'UDR', 'ULTA', 'USB', 'UAA', 'UA', 'UNP', 'UAL', 'UNH', 'UPS', 'URI', 'UHS', 'UNM', 'VLO', 'VAR', 'VTR', 'VRSN', 'VRSK', 'VZ', 'VRTX', 'VFC', 'VIAC', 'VTRS', 'V', 'VNT', 'VNO', 'VMC', 'WRB', 'WAB', 'WMT', 'WBA', 'DIS', 'WM', 'WAT', 'WEC', 'WFC', 'WELL', 'WST', 'WDC', 'WU', 'WRK', 'WY', 'WHR', 'WMB', 'WLTW', 'WYNN', 'XEL', 'XRX', 'XLNX', 'XYL', 'YUM', 'ZBRA', 'ZBH', 'ZION', 'ZTS']\n"
     ]
    }
   ],
   "source": [
    "res = take_data()\n",
    "print(res[400:])#usamos una funcion para enviar este string \n",
    "#print(type(res))"
   ]
  },
  {
   "cell_type": "code",
   "execution_count": 10,
   "metadata": {
    "colab": {},
    "colab_type": "code",
    "id": "YsULZTeAQNrP"
   },
   "outputs": [],
   "source": [
    "def collect_data(data):\n",
    "  mydata = pd.DataFrame()\n",
    "  for t in data:\n",
    "    mydata[t] =wb.DataReader(t,data_source='yahoo',start='01-10-2020')['Adj Close']#le agregamos los datos de siempre \n",
    "  print(mydata)\n",
    "  return mydata\n"
   ]
  },
  {
   "cell_type": "code",
   "execution_count": 11,
   "metadata": {
    "colab": {
     "base_uri": "https://localhost:8080/",
     "height": 281
    },
    "colab_type": "code",
    "executionInfo": {
     "elapsed": 50843,
     "status": "ok",
     "timestamp": 1599852179434,
     "user": {
      "displayName": "K&G",
      "photoUrl": "https://lh3.googleusercontent.com/a-/AOh14GjQVaumWhZIDKqccYE-sTwkiM8r_K8VFADW0TAy=s64",
      "userId": "11703084203318322732"
     },
     "user_tz": -60
    },
    "id": "mgP8xUMLjkIm",
    "outputId": "462cd182-fbb7-44df-f709-40055f4c5d54"
   },
   "outputs": [
    {
     "name": "stdout",
     "output_type": "stream",
     "text": [
      "                  TSN        UDR        ULTA        USB        UAA         UA  \\\n",
      "Date                                                                            \n",
      "2020-01-10  89.550667  44.247334  267.279999  54.210205  19.770000  17.770000   \n",
      "2020-01-13  91.050964  44.766197  275.700012  54.248470  20.170000  18.040001   \n",
      "2020-01-14  89.570152  44.612457  282.619995  54.133678  21.120001  18.760000   \n",
      "2020-01-15  88.449799  45.035236  276.200012  52.584000  21.180000  18.900000   \n",
      "2020-01-16  87.699638  45.477230  277.000000  52.794445  21.190001  19.020000   \n",
      "...               ...        ...         ...        ...        ...        ...   \n",
      "2021-02-02  64.220001  38.860001  287.149994  44.250000  18.570000  16.000000   \n",
      "2021-02-03  65.470001  39.279999  288.980011  44.730000  19.490000  16.790001   \n",
      "2021-02-04  66.220001  39.740002  295.589996  46.310001  20.260000  17.360001   \n",
      "2021-02-05  66.180000  40.070000  302.029999  46.349998  20.700001  17.740000   \n",
      "2021-02-08  67.949997  40.959999  315.950012  47.400002  20.770000  17.700001   \n",
      "\n",
      "                   UNP        UAL         UNH         UPS  ...        WYNN  \\\n",
      "Date                                                       ...               \n",
      "2020-01-10  174.214783  87.309998  290.351532  112.139732  ...  141.819931   \n",
      "2020-01-13  176.133728  86.889999  281.221802  112.991394  ...  145.985001   \n",
      "2020-01-14  177.014908  87.849998  283.573151  113.494659  ...  148.781525   \n",
      "2020-01-15  177.014908  88.290001  291.610809  114.133408  ...  148.781525   \n",
      "2020-01-16  180.050003  89.540001  295.870728  114.791519  ...  150.943390   \n",
      "...                ...        ...         ...         ...  ...         ...   \n",
      "2021-02-02  205.929993  40.830002  338.720001  160.289993  ...  106.099998   \n",
      "2021-02-03  204.360001  42.040001  337.890015  159.710007  ...  108.419998   \n",
      "2021-02-04  204.449997  42.410000  329.320007  162.259995  ...  108.690002   \n",
      "2021-02-05  204.199997  42.139999  324.510010  164.380005  ...  116.989998   \n",
      "2021-02-08  204.119995  44.349998  324.339996  163.449997  ...  117.410004   \n",
      "\n",
      "                  XEL        XRX        XLNX         XYL         YUM  \\\n",
      "Date                                                                   \n",
      "2020-01-10  61.035583  35.168648   97.968269   78.896446   99.770226   \n",
      "2020-01-13  61.746887  35.542885   97.456100   80.218956   98.445709   \n",
      "2020-01-14  61.844334  35.293392   98.106140   80.307785   98.818535   \n",
      "2020-01-15  62.818714  35.235817   97.337921   81.373680   99.328705   \n",
      "2020-01-16  63.364368  35.782776   99.829727   82.074409  100.231354   \n",
      "...               ...        ...         ...         ...         ...   \n",
      "2021-02-02  64.199997  22.850000  137.309998   97.180000  106.300003   \n",
      "2021-02-03  63.180000  23.570000  135.389999   95.120003  104.730003   \n",
      "2021-02-04  63.590000  23.170000  136.279999   97.169998  102.989998   \n",
      "2021-02-05  63.439999  23.500000  136.479996   98.190002  105.339996   \n",
      "2021-02-08  62.250000  24.240000  141.429993  100.959999  103.360001   \n",
      "\n",
      "                  ZBRA         ZBH       ZION         ZTS  \n",
      "Date                                                       \n",
      "2020-01-10  246.270004  148.803818  48.824642  134.589172  \n",
      "2020-01-13  248.580002  147.841507  49.161900  135.522369  \n",
      "2020-01-14  248.070007  147.166855  49.547329  136.276871  \n",
      "2020-01-15  247.800003  146.978363  48.535572  137.537674  \n",
      "2020-01-16  253.929993  147.593475  48.892101  138.432449  \n",
      "...                ...         ...        ...         ...  \n",
      "2021-02-02  405.190002  158.500000  45.799999  157.389999  \n",
      "2021-02-03  403.690002  158.559998  46.029999  155.229996  \n",
      "2021-02-04  407.339996  160.729996  48.220001  157.130005  \n",
      "2021-02-05  407.109985  159.889999  47.730000  159.279999  \n",
      "2021-02-08  420.309998  159.809998  48.650002  160.020004  \n",
      "\n",
      "[272 rows x 55 columns]\n"
     ]
    }
   ],
   "source": [
    "my_data = collect_data(res[450:])#le pasamos las ultimas 50 empresas con las fechas del dataframe de mydata\n",
    "#print(my_data)\n",
    "#print(type(my_data))"
   ]
  },
  {
   "cell_type": "code",
   "execution_count": 13,
   "metadata": {
    "colab": {
     "base_uri": "https://localhost:8080/",
     "height": 34
    },
    "colab_type": "code",
    "executionInfo": {
     "elapsed": 1366,
     "status": "ok",
     "timestamp": 1590745064966,
     "user": {
      "displayName": "K&G",
      "photoUrl": "",
      "userId": "11703084203318322732"
     },
     "user_tz": -120
    },
    "id": "WfoDfofvoFmN",
    "outputId": "8fb1b5a0-541c-407f-a345-278f0177a12b"
   },
   "outputs": [
    {
     "name": "stdout",
     "output_type": "stream",
     "text": [
      "<class 'pandas.core.frame.DataFrame'>\n"
     ]
    }
   ],
   "source": [
    "print(type(my_data))#procesaremos la informacion en formato dataframe"
   ]
  },
  {
   "cell_type": "code",
   "execution_count": 23,
   "metadata": {
    "colab": {},
    "colab_type": "code",
    "id": "V4RhvAwip-7L"
   },
   "outputs": [],
   "source": [
    "def visualize_data(my_data):#recibe los datos anteriores para su posterior visualizacion \n",
    "  df_corr = my_data.corr()\n",
    "  #print(df_corr.head())\n",
    "  data = df_corr.values#obtenemos los valores de la correlacion \n",
    "  #print(data)\n",
    "  \n",
    "  fig = plt.figure()#dibujamos algunas figuras \n",
    "  ax = fig.add_subplot(1,1,1)\n",
    "  heatmap = ax.pcolor(data,cmap=plt.cm.RdYlGn)#definimos los colores que tendra nuestro mapa de calor \n",
    "  fig.colorbar(heatmap)\n",
    "  ax.set_xticks(np.arange(data.shape[0])+0.5, minor=False)#se define una escala adecuada de visualizacion\n",
    "  ax.set_yticks(np.arange(data.shape[0])+0.5, minor=False)\n",
    "  ax.xaxis.tick_top()#\n",
    "  column_labels = df_corr.column_labels\n",
    "  row_labels = df_corr.index\n",
    "  ax.set_xtickslabels(column_labels)\n",
    "  ax.set_ytickslabels(row_labels)\n",
    "  plt.xticks(rotation=90)\n",
    "  heatmap.set_clim(-1,1)#definimos el escalado es decir la parte de la derecha del mapa de calor \n",
    "  \n",
    "  fig = plt.figure(figsize=(20, 20))\n",
    "  \n",
    "  heat_map = sb.heatmap(data)\n",
    "  plt.show()#visualizamos el mapa\n"
   ]
  },
  {
   "cell_type": "code",
   "execution_count": 24,
   "metadata": {
    "colab": {
     "base_uri": "https://localhost:8080/",
     "height": 34
    },
    "colab_type": "code",
    "executionInfo": {
     "elapsed": 528,
     "status": "ok",
     "timestamp": 1590745208586,
     "user": {
      "displayName": "K&G",
      "photoUrl": "",
      "userId": "11703084203318322732"
     },
     "user_tz": -120
    },
    "id": "7rXLlDMHjOLA",
    "outputId": "1d6a891b-c22c-455d-f7ed-59e4d2cc2d05"
   },
   "outputs": [
    {
     "data": {
      "text/plain": [
       "False"
      ]
     },
     "execution_count": 24,
     "metadata": {},
     "output_type": "execute_result"
    }
   ],
   "source": [
    "\n",
    "'AMZN' in my_data.columns"
   ]
  },
  {
   "cell_type": "markdown",
   "metadata": {
    "colab": {},
    "colab_type": "code",
    "id": "r-4QPA67bO8V"
   },
   "source": [
    "# MAPA DE CALOR "
   ]
  },
  {
   "cell_type": "code",
   "execution_count": 25,
   "metadata": {
    "colab": {
     "base_uri": "https://localhost:8080/",
     "height": 1000
    },
    "colab_type": "code",
    "executionInfo": {
     "elapsed": 2513,
     "status": "ok",
     "timestamp": 1599852707546,
     "user": {
      "displayName": "K&G",
      "photoUrl": "https://lh3.googleusercontent.com/a-/AOh14GjQVaumWhZIDKqccYE-sTwkiM8r_K8VFADW0TAy=s64",
      "userId": "11703084203318322732"
     },
     "user_tz": -60
    },
    "id": "6JN53BKTqTmF",
    "outputId": "10a588a1-b0dc-4f3f-eb63-5a6920a573e5"
   },
   "outputs": [
    {
     "ename": "AttributeError",
     "evalue": "'DataFrame' object has no attribute 'column_labels'",
     "output_type": "error",
     "traceback": [
      "\u001b[1;31m---------------------------------------------------------------------------\u001b[0m",
      "\u001b[1;31mAttributeError\u001b[0m                            Traceback (most recent call last)",
      "\u001b[1;32m<ipython-input-25-325f602d3a3f>\u001b[0m in \u001b[0;36m<module>\u001b[1;34m\u001b[0m\n\u001b[1;32m----> 1\u001b[1;33m \u001b[0mvisualize_data\u001b[0m\u001b[1;33m(\u001b[0m\u001b[0mmy_data\u001b[0m\u001b[1;33m)\u001b[0m\u001b[1;33m\u001b[0m\u001b[1;33m\u001b[0m\u001b[0m\n\u001b[0m",
      "\u001b[1;32m<ipython-input-23-74a5c35a9f60>\u001b[0m in \u001b[0;36mvisualize_data\u001b[1;34m(my_data)\u001b[0m\n\u001b[0;32m     12\u001b[0m   \u001b[0max\u001b[0m\u001b[1;33m.\u001b[0m\u001b[0mset_yticks\u001b[0m\u001b[1;33m(\u001b[0m\u001b[0mnp\u001b[0m\u001b[1;33m.\u001b[0m\u001b[0marange\u001b[0m\u001b[1;33m(\u001b[0m\u001b[0mdata\u001b[0m\u001b[1;33m.\u001b[0m\u001b[0mshape\u001b[0m\u001b[1;33m[\u001b[0m\u001b[1;36m0\u001b[0m\u001b[1;33m]\u001b[0m\u001b[1;33m)\u001b[0m\u001b[1;33m+\u001b[0m\u001b[1;36m0.5\u001b[0m\u001b[1;33m,\u001b[0m \u001b[0mminor\u001b[0m\u001b[1;33m=\u001b[0m\u001b[1;32mFalse\u001b[0m\u001b[1;33m)\u001b[0m\u001b[1;33m\u001b[0m\u001b[1;33m\u001b[0m\u001b[0m\n\u001b[0;32m     13\u001b[0m   \u001b[0max\u001b[0m\u001b[1;33m.\u001b[0m\u001b[0mxaxis\u001b[0m\u001b[1;33m.\u001b[0m\u001b[0mtick_top\u001b[0m\u001b[1;33m(\u001b[0m\u001b[1;33m)\u001b[0m\u001b[1;31m#\u001b[0m\u001b[1;33m\u001b[0m\u001b[1;33m\u001b[0m\u001b[0m\n\u001b[1;32m---> 14\u001b[1;33m   \u001b[0mcolumn_labels\u001b[0m \u001b[1;33m=\u001b[0m \u001b[0mdf_corr\u001b[0m\u001b[1;33m.\u001b[0m\u001b[0mcolumn_labels\u001b[0m\u001b[1;33m\u001b[0m\u001b[1;33m\u001b[0m\u001b[0m\n\u001b[0m\u001b[0;32m     15\u001b[0m   \u001b[0mrow_labels\u001b[0m \u001b[1;33m=\u001b[0m \u001b[0mdf_corr\u001b[0m\u001b[1;33m.\u001b[0m\u001b[0mindex\u001b[0m\u001b[1;33m\u001b[0m\u001b[1;33m\u001b[0m\u001b[0m\n\u001b[0;32m     16\u001b[0m   \u001b[0max\u001b[0m\u001b[1;33m.\u001b[0m\u001b[0mset_xtickslabels\u001b[0m\u001b[1;33m(\u001b[0m\u001b[0mcolumn_labels\u001b[0m\u001b[1;33m)\u001b[0m\u001b[1;33m\u001b[0m\u001b[1;33m\u001b[0m\u001b[0m\n",
      "\u001b[1;32mC:\\ProgramData\\Anaconda3\\lib\\site-packages\\pandas\\core\\generic.py\u001b[0m in \u001b[0;36m__getattr__\u001b[1;34m(self, name)\u001b[0m\n\u001b[0;32m   5137\u001b[0m             \u001b[1;32mif\u001b[0m \u001b[0mself\u001b[0m\u001b[1;33m.\u001b[0m\u001b[0m_info_axis\u001b[0m\u001b[1;33m.\u001b[0m\u001b[0m_can_hold_identifiers_and_holds_name\u001b[0m\u001b[1;33m(\u001b[0m\u001b[0mname\u001b[0m\u001b[1;33m)\u001b[0m\u001b[1;33m:\u001b[0m\u001b[1;33m\u001b[0m\u001b[1;33m\u001b[0m\u001b[0m\n\u001b[0;32m   5138\u001b[0m                 \u001b[1;32mreturn\u001b[0m \u001b[0mself\u001b[0m\u001b[1;33m[\u001b[0m\u001b[0mname\u001b[0m\u001b[1;33m]\u001b[0m\u001b[1;33m\u001b[0m\u001b[1;33m\u001b[0m\u001b[0m\n\u001b[1;32m-> 5139\u001b[1;33m             \u001b[1;32mreturn\u001b[0m \u001b[0mobject\u001b[0m\u001b[1;33m.\u001b[0m\u001b[0m__getattribute__\u001b[0m\u001b[1;33m(\u001b[0m\u001b[0mself\u001b[0m\u001b[1;33m,\u001b[0m \u001b[0mname\u001b[0m\u001b[1;33m)\u001b[0m\u001b[1;33m\u001b[0m\u001b[1;33m\u001b[0m\u001b[0m\n\u001b[0m\u001b[0;32m   5140\u001b[0m \u001b[1;33m\u001b[0m\u001b[0m\n\u001b[0;32m   5141\u001b[0m     \u001b[1;32mdef\u001b[0m \u001b[0m__setattr__\u001b[0m\u001b[1;33m(\u001b[0m\u001b[0mself\u001b[0m\u001b[1;33m,\u001b[0m \u001b[0mname\u001b[0m\u001b[1;33m:\u001b[0m \u001b[0mstr\u001b[0m\u001b[1;33m,\u001b[0m \u001b[0mvalue\u001b[0m\u001b[1;33m)\u001b[0m \u001b[1;33m->\u001b[0m \u001b[1;32mNone\u001b[0m\u001b[1;33m:\u001b[0m\u001b[1;33m\u001b[0m\u001b[1;33m\u001b[0m\u001b[0m\n",
      "\u001b[1;31mAttributeError\u001b[0m: 'DataFrame' object has no attribute 'column_labels'"
     ]
    },
    {
     "data": {
      "image/png": "[encoded data removed]",
      "text/plain": [
       "<Figure size 432x288 with 2 Axes>"
      ]
     },
     "metadata": {
      "needs_background": "light"
     },
     "output_type": "display_data"
    }
   ],
   "source": [
    "visualize_data(my_data)"
   ]
  },
  {
   "cell_type": "markdown",
   "metadata": {},
   "source": [
    "# NOTA: esta visualizacion es incompatible con jupyter al menos sin extenciones adicionales"
   ]
  },
  {
   "cell_type": "markdown",
   "metadata": {},
   "source": [
    "# Se recomienda usar visual studio code para tener la posibilidad de visualizar mejor el mapa y tener acceso a las opciones de visualizacion como por ejemplo zoom"
   ]
  },
  {
   "cell_type": "markdown",
   "metadata": {},
   "source": [
    "#### observe que los colores mas verdosos son 1 es decir que cuando una empresa sube, la otra tambien sube y el color rojo corresponde a una correlacion negativa es decir que cuando una empresa cae la otra tambien cae"
   ]
  },
  {
   "cell_type": "code",
   "execution_count": null,
   "metadata": {},
   "outputs": [],
   "source": []
  }
 ],
 "metadata": {
  "colab": {
   "collapsed_sections": [],
   "name": "Finanzas_en_Wilkipedia.ipynb",
   "provenance": []
  },
  "kernelspec": {
   "display_name": "Python 3",
   "language": "python",
   "name": "python3"
  },
  "language_info": {
   "codemirror_mode": {
    "name": "ipython",
    "version": 3
   },
   "file_extension": ".py",
   "mimetype": "text/x-python",
   "name": "python",
   "nbconvert_exporter": "python",
   "pygments_lexer": "ipython3",
   "version": "3.8.5"
  }
 },
 "nbformat": 4,
 "nbformat_minor": 4
}
